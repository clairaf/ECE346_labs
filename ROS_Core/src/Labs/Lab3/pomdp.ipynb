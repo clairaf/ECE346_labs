{
 "cells": [
  {
   "cell_type": "markdown",
   "id": "816729b5-ad6e-4131-934e-7d84d28a2f13",
   "metadata": {
    "tags": []
   },
   "source": [
    "# Lab 3: MDP and QMDP\n",
    "This lab aims to show you how to formulate a problem as an MDP (POMDP) and solve it using value iteration, policy iteration, and approximated solution for POMDP such as QMDP.\n",
    "\n",
    "## 1. MDP\n",
    "### Task 1.1: MDP formulation\n",
    "We provide you with a class `MDP()` to help you easily formulate your MDP problem. Refer to your lab handout for instructions on how to use the class."
   ]
  },
  {
   "cell_type": "code",
   "execution_count": 51,
   "id": "27599c2e-1945-4e5f-b275-716b66568bfd",
   "metadata": {},
   "outputs": [],
   "source": [
    "import numpy as np\n",
    "import matplotlib.pyplot as plt\n",
    "import math\n",
    "import os\n",
    "from mdp import MDP"
   ]
  },
  {
   "cell_type": "markdown",
   "id": "a781589c-8a5a-4e9b-bdd5-26870272f629",
   "metadata": {},
   "source": [
    "Test out the class with the simple two-state problem in the handout"
   ]
  },
  {
   "cell_type": "code",
   "execution_count": 52,
   "id": "f364f75c-101a-4bde-b63b-fce52e49c25f",
   "metadata": {},
   "outputs": [],
   "source": [
    "class TwoStateMDP(MDP):\n",
    "    def __init__(self):\n",
    "        self.states = [[\"s1\", \"s2\"]]\n",
    "        self.actions = [\"a0\", \"a1\"]\n",
    "        self.gam = 0.9\n",
    "    \n",
    "        # call the parent class\n",
    "        # notice that the state is a list of state variables\n",
    "        super().__init__(\n",
    "            states=self.states, actions=self.actions)\n",
    "        self.populate_data()\n",
    "    \n",
    "    def populate_data(self):\n",
    "        # add all routes from s1\n",
    "        self.add_route([\"s1\"],\"a0\",[\"s1\"])\n",
    "        self.add_route([\"s1\"],\"a1\",[\"s2\"])\n",
    "        # add all routes from s2\n",
    "        self.add_route([\"s2\"],\"a0\",[\"s2\"])\n",
    "        self.add_route([\"s2\"],\"a1\",[\"s2\"])\n",
    "        \n",
    "        # let's populate the reward, assuming r>0 is 0.5\n",
    "        for a in self.a:\n",
    "            self.add_reward([\"s1\"], a, 0.5)\n",
    "            self.add_reward([\"s2\"], a, 1.5)"
   ]
  },
  {
   "cell_type": "code",
   "execution_count": 53,
   "id": "a1887459-28a7-49c9-894a-6cfe600b4540",
   "metadata": {},
   "outputs": [
    {
     "name": "stdout",
     "output_type": "stream",
     "text": [
      "Everything is correct!\n"
     ]
    }
   ],
   "source": [
    "twoStateMDP = TwoStateMDP()\n",
    "assert twoStateMDP.get_index([\"s1\"]) == 0, \"Something is wrong\"\n",
    "assert twoStateMDP.get_state(0) == [0], \"Something is wrong\"\n",
    "assert twoStateMDP.get_real_state_value(0) == ['s1'], \"Something is wrong\"\n",
    "print(\"Everything is correct!\")"
   ]
  },
  {
   "cell_type": "markdown",
   "id": "703348b5-1d8b-4dd4-b025-8eb8cf89472d",
   "metadata": {},
   "source": [
    "Now let's use the `MDP()` class to formulate our T-intersection problem.\n",
    "\n",
    "**Task 1.1**: In `populate_data()`, all the probability value for each `self.add_route()` command is missing (denotes `MISSING_VALUE`). Compute the state transition matrix of the T-intersection MDP and fill in the missing `p` values."
   ]
  },
  {
   "cell_type": "code",
   "execution_count": 54,
   "id": "d4c45cf1-92c5-4b0f-8adc-19787e2ebf77",
   "metadata": {},
   "outputs": [],
   "source": [
    "class TIntersection(MDP):\n",
    "    def __init__(self, reward={\"forward\": -1.0, \"stop\": -5, \"collision\": -10, \"goal\": 5.0}):\n",
    "        self.states = [\n",
    "            [\"ego_{}\".format(x) for x in list(range(1, 6))],\n",
    "            [\"car_{}\".format(x) for x in list(range(1, 6))]\n",
    "        ]\n",
    "        self.actions = [\"forward\", \"stop\"]\n",
    "        self.gam = 0.9\n",
    "        super().__init__(\n",
    "            states=self.states, actions=self.actions, method=\"add\")\n",
    "        self.reward = reward\n",
    "        self.populate_data()\n",
    "    \n",
    "    def populate_data(self):\n",
    "        for i in range(1, 6):\n",
    "            for j in range(1, 6):\n",
    "                # add route for forward action\n",
    "                # (i, j) --> (i+1, j)\n",
    "                self.add_route([\"ego_{}\".format(i), \"car_{}\".format(j)], \"forward\", [\"ego_{}\".format(min(i+1, 5)), \"car_{}\".format(j)], 0.64)\n",
    "                # (i, j) --> (i+1, j+1)\n",
    "                self.add_route([\"ego_{}\".format(i), \"car_{}\".format(j)], \"forward\", [\"ego_{}\".format(min(i+1, 5)), \"car_{}\".format(min(j+1, 5))], 0.128)\n",
    "                # (i, j) --> (i+1, j+2)\n",
    "                self.add_route([\"ego_{}\".format(i), \"car_{}\".format(j)], \"forward\", [\"ego_{}\".format(min(i+1, 5)), \"car_{}\".format(min(j+2, 5))], 0.032)\n",
    "                # (i, j) --> (i+2, j)\n",
    "                self.add_route([\"ego_{}\".format(i), \"car_{}\".format(j)], \"forward\", [\"ego_{}\".format(min(i+2, 5)), \"car_{}\".format(j)], 0.16)\n",
    "                # (i, j) --> (i+2, j+1)\n",
    "                self.add_route([\"ego_{}\".format(i), \"car_{}\".format(j)], \"forward\", [\"ego_{}\".format(min(i+2, 5)), \"car_{}\".format(min(j+1, 5))], 0.032)\n",
    "                # (i, j) --> (i+2, j+2)\n",
    "                self.add_route([\"ego_{}\".format(i), \"car_{}\".format(j)], \"forward\", [\"ego_{}\".format(min(i+2, 5)), \"car_{}\".format(min(j+2, 5))], 0.008)\n",
    "\n",
    "                # add route for stop action\n",
    "                # (i, j) --> (i, j+2)\n",
    "                self.add_route([\"ego_{}\".format(i), \"car_{}\".format(j)], \"stop\", [\"ego_{}\".format(i), \"car_{}\".format(min(j+2, 5))], 0.08)\n",
    "                # (i, j) --> (i, j+1)\n",
    "                self.add_route([\"ego_{}\".format(i), \"car_{}\".format(j)], \"stop\", [\"ego_{}\".format(i), \"car_{}\".format(min(j+1, 5))], 0.32)\n",
    "                # (i, j) --> (i, j)\n",
    "                self.add_route([\"ego_{}\".format(i), \"car_{}\".format(j)], \"stop\", [\"ego_{}\".format(i), \"car_{}\".format(j)], 0.6)\n",
    "\n",
    "                self.add_reward([\"ego_{}\".format(i), \"car_{}\".format(j)], \"forward\", self.reward[\"forward\"])\n",
    "                self.add_reward([\"ego_{}\".format(i), \"car_{}\".format(j)], \"stop\", self.reward[\"stop\"])\n",
    "                        \n",
    "                # check for collision\n",
    "                if (i in [4, 5]) and (j in [4, 5]):\n",
    "                    self.add_reward([\"ego_{}\".format(i), \"car_{}\".format(j)], \"forward\", self.reward[\"collision\"])\n",
    "                    self.add_reward([\"ego_{}\".format(i), \"car_{}\".format(j)], \"stop\", self.reward[\"collision\"])\n",
    "                elif (i == 5) or (j == 5):\n",
    "                    # reaching goal\n",
    "                    self.add_reward([\"ego_{}\".format(i), \"car_{}\".format(j)], \"forward\", self.reward[\"goal\"])\n",
    "                    self.add_reward([\"ego_{}\".format(i), \"car_{}\".format(j)], \"stop\", self.reward[\"goal\"])\n"
   ]
  },
  {
   "cell_type": "code",
   "execution_count": 55,
   "id": "ea65f5e7-9958-4399-9656-0e9d9bce091a",
   "metadata": {},
   "outputs": [
    {
     "name": "stdout",
     "output_type": "stream",
     "text": [
      "Correct!\n"
     ]
    }
   ],
   "source": [
    "### TEST YOUR CODE\n",
    "tinter = TIntersection()\n",
    "init_state = [\"ego_1\", \"car_1\"]\n",
    "init_state_index = tinter.get_index(init_state)\n",
    "state_transition_matrix = tinter.P[:, 0, init_state_index]\n",
    "next_state_index = np.where(state_transition_matrix > 0.0)\n",
    "next_state_p = state_transition_matrix[next_state_index]\n",
    "assert np.array_equal(next_state_index[0], np.array([1, 2, 6, 7, 11, 12]))\n",
    "assert np.array_equal(next_state_p, np.array([0.64, 0.16, 0.128, 0.032, 0.032, 0.008]))\n",
    "\n",
    "print(\"Correct!\")"
   ]
  },
  {
   "cell_type": "markdown",
   "id": "e45a7cbc-3334-4b9b-bd50-6c561972703f",
   "metadata": {},
   "source": [
    "### Task 1.2: MDP value iteration and policy iteration\n",
    "Now we will write the value iteration function and policy iteration function or an arbitrary MDP that inherits the structure of our MDP class"
   ]
  },
  {
   "cell_type": "code",
   "execution_count": 56,
   "id": "e2220b35-921f-4646-a773-fec781aedf9d",
   "metadata": {},
   "outputs": [],
   "source": [
    "### TASK 1.2: Write value iteration and policy iteration\n",
    "def value_iteration(threshold = .001, mdp:MDP=None):\n",
    "    if mdp is None:\n",
    "        raise ValueError(\"MDP cannot be None\")\n",
    "    numa, nums, R, P = mdp.get_mdp()\n",
    "    V_star = np.zeros(nums)\n",
    "    pi_star = np.zeros(nums)\n",
    "    prev_V = np.zeros(nums)\n",
    "    \n",
    "    ####\n",
    "    ## YOUR CODE HERE\n",
    "\n",
    "    ############################\n",
    "    delta = np.inf\n",
    "    while True:\n",
    "        delta = 0\n",
    "        for s in range(nums):\n",
    "            qs = []\n",
    "            for a in range(numa):\n",
    "                new_val = R[s][a]\n",
    "                for s_prime in range(nums):\n",
    "                    new_val += mdp.gam * P[s_prime,s,a] * prev_V[s_prime]\n",
    "                qs.append(new_val)\n",
    "            V_star[s] = max(qs)\n",
    "            pi_star[s] = np.argmax(qs)\n",
    "            delta = max(delta, abs(V_star[s] - prev_V[s]))\n",
    "            prev_V[s] = V_star[s]\n",
    "        if delta < threshold:\n",
    "            break\n",
    "    return V_star, pi_star\n",
    "\n",
    "def policy_eval(policy, threshold = .001, mdp:MDP=None):\n",
    "    if mdp is None:\n",
    "        raise ValueError(\"MDP cannot be None\")\n",
    "    numa, nums, R, P = mdp.get_mdp()\n",
    "    V = np.zeros(nums)\n",
    "    prev_V = np.zeros(nums)\n",
    "    \n",
    "    ####\n",
    "    ## YOUR CODE HERE\n",
    "    #raise NotImplementedError(\"You have not written Policy Evaluation\")\n",
    "    ####\n",
    "    delta = np.inf\n",
    "    while True:\n",
    "        delta = 0\n",
    "        for s in range(nums):\n",
    "            a = policy[s] # think about P, s' is an int\n",
    "            V[s] = R[s][a]\n",
    "            for s_prime in range(nums):\n",
    "                V[s]+= mdp.gam * P[s_prime,s,a] * prev_V[s_prime]\n",
    "            delta = max(delta, abs(V[s] - prev_V[s]))\n",
    "            prev_V[s] = V[s]\n",
    "        if delta < threshold:\n",
    "            break\n",
    "    return V\n",
    "\n",
    "def policy_iteration(threshold = .001, mdp:MDP=None):\n",
    "    if mdp is None:\n",
    "        raise ValueError(\"MDP cannot be None\")\n",
    "    numa, nums, R, P = mdp.get_mdp()\n",
    "    # initialize a random policy with length nums and action randomly assigned from numa\n",
    "    pi_star = np.random.randint(0, numa, nums)\n",
    "    V_star = policy_eval(pi_star, mdp=mdp)\n",
    "\n",
    "    #########\n",
    "    policy_stable = True\n",
    "    while True:\n",
    "        for s in range(nums):\n",
    "            old_act = pi_star[s]\n",
    "            pi_actions = []\n",
    "            for a in range(numa):\n",
    "                pi_sum = R[s][a]\n",
    "                for s_prime in range(nums):\n",
    "                    pi_sum += P[s_prime,s,a] * mdp.gam * (V_star[s_prime])\n",
    "                pi_actions.append(pi_sum)\n",
    "            pi_star[s] = np.argmax(pi_actions)\n",
    "            if old_act != pi_star[s]:\n",
    "                policy_stable = False\n",
    "        if not policy_stable:\n",
    "            V_star = policy_eval(pi_star, mdp=mdp)\n",
    "            policy_stable = True\n",
    "        else:\n",
    "            break\n",
    "\n",
    "    return V_star, pi_star"
   ]
  },
  {
   "cell_type": "markdown",
   "id": "695ec1a3-ea3d-4348-ab62-909ba1fb3997",
   "metadata": {},
   "source": [
    "Let's test our value iteration and policy iteration on the `TwoStateMDP`. The following is the close-form value function for this simple MDP:\n",
    "\n",
    "$$\n",
    "V(s_1) = \\frac{r + \\gamma}{1 - \\gamma} \\;\\;,\\;\\; V(s_2) = \\frac{1 + r}{1 - \\gamma}\n",
    "$$"
   ]
  },
  {
   "cell_type": "code",
   "execution_count": 57,
   "id": "72248dd1-1c78-470c-81f5-4e1e244bf51e",
   "metadata": {},
   "outputs": [
    {
     "name": "stdout",
     "output_type": "stream",
     "text": [
      "Value iteration is correct!\n",
      "Policy iteration is correct!\n",
      "Policy learned by value iteration: [1. 0.]\n",
      "Policy learned by policy iteration: [1 0]\n"
     ]
    }
   ],
   "source": [
    "### TEST YOUR CODE\n",
    "V_star, pi_star_value = value_iteration(mdp=twoStateMDP, threshold=1e-10)\n",
    "r = 0.5\n",
    "V_calc = [(r + twoStateMDP.gam)/(1-twoStateMDP.gam), (1 + r)/(1-twoStateMDP.gam)]\n",
    "assert np.max(abs(V_star - V_calc)) < 1e-2, \"Value iteration is incorrect\"\n",
    "print(\"Value iteration is correct!\")\n",
    "\n",
    "V_star, pi_star_policy = policy_iteration(mdp=twoStateMDP, threshold=1e-10)\n",
    "assert np.max(abs(V_star - V_calc)) < 1e-2, \"Policy iteration is incorrect\"\n",
    "print(\"Policy iteration is correct!\")\n",
    "\n",
    "assert np.array_equal(pi_star_policy, pi_star_value), \"Policy and value iteration give different pi star\"\n",
    "print(\"Policy learned by value iteration: {}\".format(pi_star_value))\n",
    "print(\"Policy learned by policy iteration: {}\".format(pi_star_policy))"
   ]
  },
  {
   "cell_type": "markdown",
   "id": "98ae34cf-f9d2-43b6-b727-6ca0829b7d04",
   "metadata": {},
   "source": [
    "Let's now test the value iteration and policy iteration on our T-intersection MDP"
   ]
  },
  {
   "cell_type": "code",
   "execution_count": 58,
   "id": "b8c3a903-8c39-4e98-9086-655d3c666b28",
   "metadata": {},
   "outputs": [
    {
     "name": "stdout",
     "output_type": "stream",
     "text": [
      "V*: [ -4.44753456  -5.86506938  -6.86966343  -3.82061763   2.17938237\n",
      "   4.0898743    2.72618564   2.72618564 -24.87746894 -18.87746894\n",
      "  15.41772833  14.65024251  14.65024251 -52.42848935 -46.42848935\n",
      "  28.34778505  28.26082852  28.26082852 -99.99991792 -99.99991792\n",
      "  49.99995896  49.99995896  49.99995896 -99.99991792 -99.99991792]\n",
      "pi*: [0. 0. 1. 0. 0. 0. 1. 1. 0. 0. 0. 1. 1. 0. 0. 0. 1. 1. 1. 1. 0. 1. 1. 0.\n",
      " 0.]\n"
     ]
    }
   ],
   "source": [
    "V_star, pi_star = value_iteration(mdp=tinter, threshold=1e-5)\n",
    "print(\"V*: {}\".format(V_star))\n",
    "print(\"pi*: {}\".format(pi_star))"
   ]
  },
  {
   "cell_type": "markdown",
   "id": "7df012f7",
   "metadata": {},
   "source": [
    "### Task 1.3: Simulate your computed $\\pi^*$\n",
    "\n",
    "We provide you with a class `TintersectionVisualizer()` to visualize your MDP. Simply call the following function to plot the current state:\n",
    "```python\n",
    "# initialize the visualizer\n",
    "vis = TIntersectionVisualizer()\n",
    "# define the state\n",
    "state = [\"ego_1\", \"car_1\"]\n",
    "# visualize the state\n",
    "vis.plot(state)\n",
    "```"
   ]
  },
  {
   "cell_type": "code",
   "execution_count": 59,
   "id": "805792f3",
   "metadata": {},
   "outputs": [
    {
     "data": {
      "image/png": "[encoded data removed]",
      "text/plain": [
       "<Figure size 666.667x500 with 1 Axes>"
      ]
     },
     "metadata": {},
     "output_type": "display_data"
    }
   ],
   "source": [
    "from visualizer import TIntersectionVisualizer\n",
    "vis = TIntersectionVisualizer()\n",
    "state = [\"ego_1\", \"car_1\"]\n",
    "vis.plot(state)"
   ]
  },
  {
   "cell_type": "markdown",
   "id": "98e1ead6",
   "metadata": {},
   "source": [
    "Do the following task:\n",
    "1. Choose an initial state\n",
    "2. From the computed $V^*(x), \\pi^*(x)$, iterate from the chosen initial state gradually until you reach the terminal state, i.e. `[\"ego_5\", \"car_5\"]`.\n",
    "3. While iterating, keep track of your state-action pair $(s, a)$. Print out all the state-action pairs that your computed $V^*(x), \\pi^*(x)$ navigate you to.\n",
    "\n",
    "*Hint 1*: For each state and action pair $(s, a)$, the matrix P will show you the probability of $s'$ by calling `P[:, state_index, action_index]`\n",
    "\n",
    "*Hint 2*: Assuming that you have a list of states `S` and the probability distribution `p` of the states in `S`, you can use `numpy.random.choice(S, p=p)` to sample the next state, given `S` and `p`."
   ]
  },
  {
   "cell_type": "code",
   "execution_count": 60,
   "id": "82336901",
   "metadata": {},
   "outputs": [
    {
     "name": "stdout",
     "output_type": "stream",
     "text": [
      "State: ['ego_1', 'car_1']\tAction: None\n",
      "State: ['ego_2', 'car_1']\tAction: forward\n",
      "State: ['ego_3', 'car_1']\tAction: forward\n",
      "State: ['ego_3', 'car_2']\tAction: stop\n",
      "State: ['ego_3', 'car_3']\tAction: stop\n",
      "State: ['ego_3', 'car_3']\tAction: stop\n",
      "State: ['ego_3', 'car_4']\tAction: stop\n",
      "State: ['ego_3', 'car_4']\tAction: stop\n",
      "State: ['ego_3', 'car_4']\tAction: stop\n",
      "State: ['ego_3', 'car_5']\tAction: stop\n"
     ]
    }
   ],
   "source": [
    "## YOUR CODE HERE\n",
    "def get_solution(initial_state, mdp: MDP):\n",
    "    done = False\n",
    "    state = initial_state \n",
    "    state_list = [state]\n",
    "    print(\"State: {}\\tAction: {}\".format(state, None))\n",
    "\n",
    "    while not done:\n",
    "        ## YOUR CODE HERE\n",
    "        # 1. Get index of current state\n",
    "        # 2. Get next action based on pi_star and state index\n",
    "        # 3. Get indices of all the possible next states and their transition probabilities\n",
    "        # 4. Sample next state index, given the transition probabilities\n",
    "        # 5. Append new state (readable form, e.g. [\"ego_1\", \"car_2\"]) to state_list\n",
    "\n",
    "        # 1. Get index of current state\n",
    "        state_index = mdp.get_index(state)\n",
    "\n",
    "        # 2. Get next action based on pi_star and state index\n",
    "        next_action = pi_star[state_index]\n",
    "\n",
    "        # 3. attempts\n",
    "        \n",
    "        next_state_indices = np.where(mdp.P[:, state_index, int(next_action)] > 0.0)[0]\n",
    "        next_state_p = mdp.P[:, state_index, int(next_action)][next_state_indices]\n",
    "\n",
    "        # 4. Sample next state index, given the transition probabilities\n",
    "        next_state_index = np.random.choice(next_state_indices, p=next_state_p)\n",
    "\n",
    "        # 5. Append new state (readable form, e.g., [\"ego_1\", \"car_2\"]) to state_list\n",
    "        state = mdp.get_real_state_value(next_state_index)\n",
    "        state_list.append(state)\n",
    "\n",
    "        print(\"State: {}\\tAction: {}\".format(state, mdp.a[int(next_action)]))\n",
    "\n",
    "        #state = next_state\n",
    "        \n",
    "\n",
    "        if state[0] == \"ego_5\" or state[1] == \"car_5\":\n",
    "            done = True\n",
    "\n",
    "    return state_list\n",
    "\n",
    "initial_state = [\"ego_1\", \"car_1\"] # choose an initial condition\n",
    "state_list = get_solution(initial_state, tinter)\n"
   ]
  },
  {
   "cell_type": "code",
   "execution_count": 61,
   "id": "1fce6c6f",
   "metadata": {},
   "outputs": [
    {
     "name": "stdout",
     "output_type": "stream",
     "text": [
      "WARNING: Path figures/mdp exists, GIF result might be affected with old data\n",
      "2\r"
     ]
    },
    {
     "name": "stderr",
     "output_type": "stream",
     "text": [
      "/var/folders/s0/9s_5q3q50rgc41mr44x0r8_r0000gn/T/ipykernel_18227/1735534440.py:24: DeprecationWarning: Starting with ImageIO v3 the behavior of this function will switch to that of iio.v3.imread. To keep the current behavior (and make this warning disappear) use `import imageio.v2 as imageio` or call `imageio.v2.imread` directly.\n",
      "  image = imageio.imread(filename)\n"
     ]
    },
    {
     "name": "stdout",
     "output_type": "stream",
     "text": [
      "9\r"
     ]
    },
    {
     "data": {
      "image/png": "[encoded data removed]",
      "text/plain": [
       "<IPython.core.display.Image object>"
      ]
     },
     "execution_count": 61,
     "metadata": {
      "image/png": {
       "width": 400
      }
     },
     "output_type": "execute_result"
    },
    {
     "data": {
      "text/plain": [
       "<Figure size 666.667x500 with 0 Axes>"
      ]
     },
     "metadata": {},
     "output_type": "display_data"
    }
   ],
   "source": [
    "import imageio\n",
    "from IPython.display import Image\n",
    "\n",
    "folder = \"figures\"\n",
    "sub_folder = \"mdp\"\n",
    "\n",
    "fig_prog_folder = os.path.join(folder, sub_folder)\n",
    "if os.path.exists(fig_prog_folder):\n",
    "    print(\"WARNING: Path {} exists, GIF result might be affected with old data\".format(fig_prog_folder))\n",
    "os.makedirs(fig_prog_folder, exist_ok=True)\n",
    "\n",
    "for i, state in enumerate(state_list):\n",
    "    vis.plot(state)\n",
    "    plt.savefig(os.path.join(fig_prog_folder, \"{}.png\".format(i)), dpi=200)\n",
    "    plt.clf()\n",
    "\n",
    "gif_path = os.path.join(fig_prog_folder, 'result.gif')\n",
    "length = len([i for i in os.listdir(os.path.join(fig_prog_folder)) if \".png\" in i])\n",
    "\n",
    "with imageio.get_writer(gif_path, mode='I') as writer:\n",
    "    for i in range(length):\n",
    "        print(i, end='\\r')\n",
    "        filename = os.path.join(fig_prog_folder, str(i)+\".png\")\n",
    "        image = imageio.imread(filename)\n",
    "        writer.append_data(image)\n",
    "Image(open(gif_path,'rb').read(), width=400)"
   ]
  },
  {
   "cell_type": "markdown",
   "id": "c6c89ab7",
   "metadata": {},
   "source": [
    "Let's play around with this a bit. Let's change the default reward function of our MDP.\n",
    "\n",
    "The class `TIntersection()` takes in a dictionary with reward information of the following structure:\n",
    "\n",
    "```python\n",
    "TIntersection(reward = {\n",
    "    \"forward\": forward_r,\n",
    "    \"stop\": stop_r,\n",
    "    \"collision\": collision_r,\n",
    "    \"goal\": goal_r\n",
    "})\n",
    "```\n",
    "\n",
    "Let's change the reward function and see how it affects the $\\pi^*$"
   ]
  },
  {
   "cell_type": "code",
   "execution_count": 62,
   "id": "210cf7ba",
   "metadata": {},
   "outputs": [],
   "source": [
    "tinter = TIntersection(reward={\n",
    "    \"forward\": 0.0,\n",
    "    \"stop\": -1.0,\n",
    "    \"collision\": -100,\n",
    "    \"goal\": 20\n",
    "})"
   ]
  },
  {
   "cell_type": "code",
   "execution_count": 63,
   "id": "4305d054",
   "metadata": {},
   "outputs": [
    {
     "name": "stdout",
     "output_type": "stream",
     "text": [
      "V*: [  80.57377501   80.57377501   80.57377501 -202.56550785 -182.56550785\n",
      "  100.72505806  100.72505806  100.72505806 -371.02031835 -351.02031835\n",
      "  125.7655775   125.7655775   125.7655775  -591.42848161 -571.42848161\n",
      "  154.34780812  154.34780812  154.34780812 -999.99991019 -999.99991019\n",
      "  199.99998204  199.99998204  199.99998204 -999.99991019 -999.99991019]\n",
      "pi*: [1. 1. 1. 0. 0. 1. 1. 1. 0. 0. 1. 1. 1. 0. 0. 1. 1. 1. 1. 1. 0. 1. 1. 0.\n",
      " 0.]\n"
     ]
    }
   ],
   "source": [
    "V_star, pi_star = value_iteration(mdp=tinter, threshold=1e-5)\n",
    "print(\"V*: {}\".format(V_star))\n",
    "print(\"pi*: {}\".format(pi_star))"
   ]
  },
  {
   "cell_type": "code",
   "execution_count": 64,
   "id": "ab503931",
   "metadata": {},
   "outputs": [
    {
     "name": "stdout",
     "output_type": "stream",
     "text": [
      "State: ['ego_1', 'car_1']\tAction: None\n",
      "State: ['ego_1', 'car_2']\tAction: stop\n",
      "State: ['ego_1', 'car_3']\tAction: stop\n",
      "State: ['ego_1', 'car_3']\tAction: stop\n",
      "State: ['ego_1', 'car_4']\tAction: stop\n",
      "State: ['ego_1', 'car_4']\tAction: stop\n",
      "State: ['ego_1', 'car_5']\tAction: stop\n"
     ]
    },
    {
     "data": {
      "text/plain": [
       "[['ego_1', 'car_1'],\n",
       " ['ego_1', 'car_2'],\n",
       " ['ego_1', 'car_3'],\n",
       " ['ego_1', 'car_3'],\n",
       " ['ego_1', 'car_4'],\n",
       " ['ego_1', 'car_4'],\n",
       " ['ego_1', 'car_5']]"
      ]
     },
     "execution_count": 64,
     "metadata": {},
     "output_type": "execute_result"
    }
   ],
   "source": [
    "initial_state = [\"ego_1\", \"car_1\"] # choose an initial state\n",
    "get_solution(initial_state, tinter)"
   ]
  },
  {
   "cell_type": "markdown",
   "id": "ffd29442",
   "metadata": {},
   "source": [
    "With this new reward function, it is not good almost everywhere to choose the action 0, i.e. forward."
   ]
  },
  {
   "cell_type": "markdown",
   "id": "b120a2ff",
   "metadata": {},
   "source": [
    "## 2. QMDP\n",
    "### Task 2.1: Defining new MDP\n",
    "Assume that in this new problem, we do not know exactly where the other car is. Let's introduce a new action called *look* into our problem formulation. Everytime we choose the action *look*, no car moves, we get a $-1$ reward, and receives the observation $z \\in \\{1 \\dots 5\\}$ corresponding to the position of the other car.\n",
    "\n",
    "The first thing we will do to approximate this POMDP with QMDP is to solve for the underlying MDP formulation (assuming that all states are fully observable).\n",
    "\n",
    "Tasks:\n",
    "1. Edit the class `TIntersection()` to include the new information mentioned\n",
    "2. Use value iteration/policy iteration and solve for $\\hat{V}^{\\text{MDP}}$\n",
    "\n",
    "**NOTE**: You can copy the value of all the missing probability values from the previous questions (denotes `MISSING_VALUE`)"
   ]
  },
  {
   "cell_type": "code",
   "execution_count": 65,
   "id": "1a90ac93",
   "metadata": {},
   "outputs": [],
   "source": [
    "class TIntersectionQMDP(MDP):\n",
    "    def __init__(self, reward={\"forward\": -1, \"stop\": -5, \"collision\": -10, \"goal\": 5.0, \"look\": -1}):\n",
    "        self.states = [\n",
    "            [\"ego_{}\".format(x) for x in list(range(1, 6))],\n",
    "            [\"car_{}\".format(x) for x in list(range(1, 6))]\n",
    "        ]\n",
    "        \n",
    "        # 1. Add another action \"look\" to self.actions\n",
    "        self.actions = [\"forward\", \"stop\", \"look\"]\n",
    "\n",
    "        self.gam = 0.9\n",
    "        super().__init__(\n",
    "            states=self.states, actions=self.actions, method=\"add\")\n",
    "        self.reward = reward\n",
    "        self.populate_data()\n",
    "        \n",
    "    def populate_data(self):\n",
    "        for i in range(1, 6):\n",
    "            for j in range(1, 6):\n",
    "                # add route for forward action\n",
    "                # (i, j) --> (i+1, j)\n",
    "                self.add_route([\"ego_{}\".format(i), \"car_{}\".format(j)], \"forward\", [\"ego_{}\".format(min(i+1, 5)), \"car_{}\".format(j)], 0.64)\n",
    "                # (i, j) --> (i+1, j+1)\n",
    "                self.add_route([\"ego_{}\".format(i), \"car_{}\".format(j)], \"forward\", [\"ego_{}\".format(min(i+1, 5)), \"car_{}\".format(min(j+1, 5))], 0.128)\n",
    "                # (i, j) --> (i+1, j+2)\n",
    "                self.add_route([\"ego_{}\".format(i), \"car_{}\".format(j)], \"forward\", [\"ego_{}\".format(min(i+1, 5)), \"car_{}\".format(min(j+2, 5))], 0.032)\n",
    "                # (i, j) --> (i+2, j)\n",
    "                self.add_route([\"ego_{}\".format(i), \"car_{}\".format(j)], \"forward\", [\"ego_{}\".format(min(i+2, 5)), \"car_{}\".format(j)], 0.16)\n",
    "                # (i, j) --> (i+2, j+1)\n",
    "                self.add_route([\"ego_{}\".format(i), \"car_{}\".format(j)], \"forward\", [\"ego_{}\".format(min(i+2, 5)), \"car_{}\".format(min(j+1, 5))], 0.032)\n",
    "                # (i, j) --> (i+2, j+2)\n",
    "                self.add_route([\"ego_{}\".format(i), \"car_{}\".format(j)], \"forward\", [\"ego_{}\".format(min(i+2, 5)), \"car_{}\".format(min(j+2, 5))], 0.008)\n",
    "\n",
    "                # add route for stop action\n",
    "                # (i, j) --> (i, j+2)\n",
    "                self.add_route([\"ego_{}\".format(i), \"car_{}\".format(j)], \"stop\", [\"ego_{}\".format(i), \"car_{}\".format(min(j+2, 5))], 0.08)\n",
    "                # (i, j) --> (i, j+1)\n",
    "                self.add_route([\"ego_{}\".format(i), \"car_{}\".format(j)], \"stop\", [\"ego_{}\".format(i), \"car_{}\".format(min(j+1, 5))], 0.32)\n",
    "                # (i, j) --> (i, j)\n",
    "                self.add_route([\"ego_{}\".format(i), \"car_{}\".format(j)], \"stop\", [\"ego_{}\".format(i), \"car_{}\".format(j)], 0.6)\n",
    "\n",
    "                self.add_reward([\"ego_{}\".format(i), \"car_{}\".format(j)], \"forward\", self.reward[\"forward\"])\n",
    "                self.add_reward([\"ego_{}\".format(i), \"car_{}\".format(j)], \"stop\", self.reward[\"stop\"])\n",
    "\n",
    "                # add route and reward for look action\n",
    "                ## YOUR CODE HERE\n",
    "                # self.add_route(...., \"look\", ...., p=...)\n",
    "                # (i, j) --> (i, j+2)\n",
    "                self.add_route([\"ego_{}\".format(i), \"car_{}\".format(j)], \"look\", [\"ego_{}\".format(i), \"car_{}\".format(min(j+1, 5))], 0.1)\n",
    "                # (i, j) --> (i, j+1)\n",
    "                self.add_route([\"ego_{}\".format(i), \"car_{}\".format(j)], \"look\", [\"ego_{}\".format(i), \"car_{}\".format(max(j-1, 1))], 0.1)\n",
    "                # (i, j) --> (i, j)\n",
    "                self.add_route([\"ego_{}\".format(i), \"car_{}\".format(j)], \"look\", [\"ego_{}\".format(i), \"car_{}\".format(j)], 0.8)\n",
    "                # self.add_reward(..., \"look\", self.reward[\"look\"])\n",
    "                self.add_reward([\"ego_{}\".format(i), \"car_{}\".format(j)], \"look\", self.reward[\"look\"])\n",
    "                ######\n",
    "                        \n",
    "                # check for collision\n",
    "                if (i in [4, 5]) and (j in [4, 5]):\n",
    "                    self.add_reward([\"ego_{}\".format(i), \"car_{}\".format(j)], \"forward\", self.reward[\"collision\"])\n",
    "                    self.add_reward([\"ego_{}\".format(i), \"car_{}\".format(j)], \"stop\", self.reward[\"collision\"])\n",
    "                    self.add_reward([\"ego_{}\".format(i), \"car_{}\".format(j)], \"look\", self.reward[\"collision\"])\n",
    "                elif (i == 5) or (j == 5):\n",
    "                    # reaching goal\n",
    "                    self.add_reward([\"ego_{}\".format(i), \"car_{}\".format(j)], \"forward\", self.reward[\"goal\"])\n",
    "                    self.add_reward([\"ego_{}\".format(i), \"car_{}\".format(j)], \"stop\", self.reward[\"goal\"])\n",
    "                    self.add_reward([\"ego_{}\".format(i), \"car_{}\".format(j)], \"look\", self.reward[\"goal\"])\n"
   ]
  },
  {
   "cell_type": "code",
   "execution_count": 66,
   "id": "9d7dd02f",
   "metadata": {},
   "outputs": [],
   "source": [
    "tinter_qmdp = TIntersectionQMDP()"
   ]
  },
  {
   "cell_type": "markdown",
   "id": "6917f9ec",
   "metadata": {},
   "source": [
    "### Task 2.2: QMDP\n",
    "Write the QMDP function to get the **next action**, taking in consideration the belief space."
   ]
  },
  {
   "cell_type": "code",
   "execution_count": 67,
   "id": "407fee3e",
   "metadata": {},
   "outputs": [
    {
     "name": "stdout",
     "output_type": "stream",
     "text": [
      "[ 19.31320204  23.69629684  29.17154226  35.29577383  42.89130735\n",
      "  11.80710698  13.02239087  15.13439177  23.6022155   34.99262364\n",
      "  15.41689803  14.64941221  14.64941221  -4.75566794  10.41895844\n",
      "  28.34695474  28.25999822  28.25999822 -63.6487551  -58.13376229\n",
      "  49.99912865  49.99912865  49.99912865 -82.15169569 -80.16856473] [0. 0. 0. 0. 2. 0. 0. 0. 0. 2. 0. 1. 1. 0. 2. 0. 1. 1. 2. 2. 0. 1. 1. 0.\n",
      " 2.]\n"
     ]
    }
   ],
   "source": [
    "# calculate the V_star using previously built value iteration\n",
    "V_star, pi_star = value_iteration(mdp=tinter_qmdp, threshold=1e-4)\n",
    "\n",
    "print(V_star, pi_star)"
   ]
  },
  {
   "cell_type": "code",
   "execution_count": 68,
   "id": "c0e810c9",
   "metadata": {},
   "outputs": [],
   "source": [
    "def calc_quality(curr_state, num_states, num_actions, R, P, V_star):\n",
    "    Q = []\n",
    "    for a in range(num_actions):\n",
    "        prob_sum = R[curr_state, a]\n",
    "        for s_prime in range(num_states):\n",
    "            prob_sum += V_star[s_prime] * P[s_prime, curr_state, a]\n",
    "        Q.append(prob_sum)\n",
    "    return np.array(Q)\n",
    "\n",
    "def QMDP(V_star, belief, mdp:MDP=None):\n",
    "    if mdp is None:\n",
    "        raise ValueError(\"MDP cannot be None\")\n",
    "    \n",
    "    numa, nums, R, P = mdp.get_mdp()\n",
    "    # compute MDP-value for state-action pairs (Q)\n",
    "    ####\n",
    "    ## YOUR CODE HERE\n",
    "    V = np.zeros(numa)\n",
    "    for i in range(nums):\n",
    "        p_i = belief[i]\n",
    "        Q_i = calc_quality(i, nums, numa, R, P, V_star)\n",
    "        V += p_i * Q_i\n",
    "    return np.argmax(V)"
   ]
  },
  {
   "cell_type": "markdown",
   "id": "488719ca",
   "metadata": {},
   "source": [
    "As we know exactly where we are all the time, and we only do not know where the other car is. Let us keep track of the probability distribution of where the other car is using an array of `b = [p_1, p_2, p_3, p_4, p_5]`, with `p_i` indicates the probability that the other car is at the $i^\\text{th}$ position, $i \\in \\{1 \\dots 5\\}$.\n",
    "\n",
    "We then provide you with the function `propagate_belief()` to incorporate our current position to give you the full array of belief space $\\in \\mathbb{R}^{25}$\n",
    "\n",
    "**Example**: Let us have our current belief `b = [0.2, 0.2, 0.2, 0.2, 0.2]` and that we are at `ego_1`, running `propagate_belief(b, \"ego_1\")` gives us:\n",
    "\n",
    "```python\n",
    "propagate_belief(b, \"ego_1\")\n",
    ">>> [0.2 0.  0.  0.  0.  0.2 0.  0.  0.  0.  0.2 0.  0.  0.  0.  0.2 0.  0.\n",
    " 0.  0.  0.2 0.  0.  0.  0. ]\n",
    "```\n",
    "\n",
    "This is because the state array is in the form `[(ego_1, car_1), (ego_1, car_2), ..., (ego_2, car_1), (ego_2, car_2), ..., (ego_5, car_5)]`."
   ]
  },
  {
   "cell_type": "code",
   "execution_count": 69,
   "id": "00fe6326",
   "metadata": {},
   "outputs": [
    {
     "name": "stdout",
     "output_type": "stream",
     "text": [
      "[0.2 0.  0.  0.  0.  0.2 0.  0.  0.  0.  0.2 0.  0.  0.  0.  0.2 0.  0.\n",
      " 0.  0.  0.2 0.  0.  0.  0. ]\n"
     ]
    }
   ],
   "source": [
    "# assume that the initial belief space is {0.2, 0.2, 0.2, 0.2, 0.2} for the 5 positions that the other car can be in\n",
    "# if *look* is chosen, we will receive the observation of where the other car is, with probability distribution \n",
    "# p(pos-1) = 0.1, p(pos)=0.8, p(pos+1)=0.1 with pos is the true position\n",
    "b = [0.2, 0.2, 0.2, 0.2, 0.2]\n",
    "\n",
    "# write a function to propagate the belief space to include our position as well\n",
    "def propagate_belief(b_car, ego_state):\n",
    "    idx = int(ego_state.replace(\"ego_\", \"\")) - 1\n",
    "    b_full = np.zeros(25)\n",
    "    for i, p in enumerate(b_car):\n",
    "        b_full[i*5 + idx] = p\n",
    "    return b_full\n",
    "\n",
    "print(propagate_belief(b, \"ego_1\"))"
   ]
  },
  {
   "cell_type": "code",
   "execution_count": 70,
   "id": "d568c7fd",
   "metadata": {},
   "outputs": [
    {
     "name": "stdout",
     "output_type": "stream",
     "text": [
      "Best next action: 0\n",
      "Best next action: 1\n",
      "Best next action: 2\n"
     ]
    }
   ],
   "source": [
    "## TEST YOUR CODE\n",
    "# we know exactly where we are, and we are confident that the other car is at position 1\n",
    "belief = propagate_belief([1.0, 0.0, 0.0, 0.0, 0.0], \"ego_1\")\n",
    "next_action = QMDP(V_star, belief, mdp=tinter_qmdp)\n",
    "print(\"Best next action: {}\".format(next_action))\n",
    "\n",
    "# we know exactly where we are, and we are confident that the other car is at position 3\n",
    "belief = propagate_belief([0.0, 0.0, 1.0, 0.0, 0.0], \"ego_3\")\n",
    "next_action = QMDP(V_star, belief, mdp=tinter_qmdp)\n",
    "print(\"Best next action: {}\".format(next_action))\n",
    "\n",
    "# we know exactly where we are, and we are not that confident where the other is, with high prop that\n",
    "# it's around position 2 or 3\n",
    "belief = propagate_belief([0.0, 0.4, 0.5, 0.1, 0.0], \"ego_3\")\n",
    "next_action = QMDP(V_star, belief, mdp=tinter_qmdp)\n",
    "print(\"Best next action: {}\".format(next_action))"
   ]
  },
  {
   "cell_type": "markdown",
   "id": "c9aaa673",
   "metadata": {},
   "source": [
    "### Task 2.3: Observation and belief space"
   ]
  },
  {
   "cell_type": "code",
   "execution_count": 71,
   "id": "03578732",
   "metadata": {},
   "outputs": [],
   "source": [
    "# assume that the initial belief space is {0.2, 0.2, 0.2, 0.2, 0.2} for the 5 positions that the other car can be in\n",
    "# if *look* is chosen, we will receive the observation of where the other car is, with probability distribution \n",
    "# p(pos-1) = 0.1, p(pos)=0.8, p(pos+1)=0.1 with pos is the true position\n",
    "b = [0.2, 0.2, 0.2, 0.2, 0.2]\n",
    "\n",
    "# write a function to propagate the belief space to include our position as well\n",
    "def propagate_belief(b_car, ego_state):\n",
    "    idx = int(ego_state.replace(\"ego_\", \"\")) - 1\n",
    "    b_full = np.zeros(25)\n",
    "    for i, p in enumerate(b_car):\n",
    "        b_full[i*5 + idx] = p\n",
    "    return b_full"
   ]
  },
  {
   "cell_type": "markdown",
   "id": "ccd01e13",
   "metadata": {},
   "source": [
    "We will use Bayesian inference to update our belief using the observation, and we will model our belief space as a multinomial distribution, so that we can easily do Bayesian inference with conjugate prior. In this case, it will be Dirichlet distribution."
   ]
  },
  {
   "cell_type": "code",
   "execution_count": 72,
   "id": "7238f55e",
   "metadata": {},
   "outputs": [],
   "source": [
    "class DirichletMultinominal:\n",
    "    def __init__(self, alpha=[1, 1, 1, 1, 1]):\n",
    "        self.alpha = alpha\n",
    "        self.observations = []\n",
    "    \n",
    "    def reset(self):\n",
    "        self.observations = []\n",
    "    \n",
    "    def get_posterior_predictive(self, observations=[]):\n",
    "        ### YOUR CODE HERE\n",
    "        # 1. Append the new observations to the internal observation list\n",
    "        self.observations.extend(observations)\n",
    "        # 2. Calculate the predictive posterior distribution and return\n",
    "        post_pred = []\n",
    "        \n",
    "        for i in range(len(self.alpha)):\n",
    "            num_obs = self.observations.count(i)\n",
    "            nom = self.alpha[i] + num_obs\n",
    "            denom = sum(self.alpha) + len(self.observations)\n",
    "            post_pred.append(nom/denom)\n",
    "        \n",
    "        ###\n",
    "        return post_pred\n"
   ]
  },
  {
   "cell_type": "code",
   "execution_count": 73,
   "id": "6594dbda",
   "metadata": {},
   "outputs": [
    {
     "name": "stdout",
     "output_type": "stream",
     "text": [
      "Everything is correct!\n"
     ]
    }
   ],
   "source": [
    "### TEST YOUR CODE\n",
    "dist = DirichletMultinominal()\n",
    "assert dist.get_posterior_predictive() == [0.2, 0.2, 0.2, 0.2, 0.2]\n",
    "assert dist.get_posterior_predictive(observations=[0, 0, 0, 0, 0]) == [0.6, 0.1, 0.1, 0.1, 0.1]\n",
    "dist.reset()\n",
    "assert dist.get_posterior_predictive(observations=[1, 1, 1, 1, 1]) == [0.1, 0.6, 0.1, 0.1, 0.1]\n",
    "print(\"Everything is correct!\")"
   ]
  },
  {
   "cell_type": "markdown",
   "id": "9f5c69cb",
   "metadata": {},
   "source": [
    "Run the last block to simulate our QMDP. Does the result make sense?\n",
    "\n",
    "Run it a few times, as well as changing the initial state so that you can see different results."
   ]
  },
  {
   "cell_type": "code",
   "execution_count": 74,
   "id": "3ec8b385",
   "metadata": {},
   "outputs": [
    {
     "name": "stdout",
     "output_type": "stream",
     "text": [
      "State: ['ego_1', 'car_1']\tAction: None\tBelief: [0.1, 0.6, 0.1, 0.1, 0.1]\n",
      "State: ['ego_2', 'car_1']\tAction: 0\tBelief: [0.2, 0.2, 0.2, 0.2, 0.2]\n",
      "State: ['ego_2', 'car_1']\tAction: 2\tBelief: [0.3333333333333333, 0.16666666666666666, 0.16666666666666666, 0.16666666666666666, 0.16666666666666666]\n",
      "State: ['ego_2', 'car_1']\tAction: 2\tBelief: [0.42857142857142855, 0.14285714285714285, 0.14285714285714285, 0.14285714285714285, 0.14285714285714285]\n",
      "State: ['ego_2', 'car_2']\tAction: 2\tBelief: [0.5, 0.125, 0.125, 0.125, 0.125]\n",
      "State: ['ego_2', 'car_1']\tAction: 2\tBelief: [0.4444444444444444, 0.2222222222222222, 0.1111111111111111, 0.1111111111111111, 0.1111111111111111]\n",
      "State: ['ego_2', 'car_1']\tAction: 2\tBelief: [0.4, 0.3, 0.1, 0.1, 0.1]\n",
      "State: ['ego_2', 'car_1']\tAction: 2\tBelief: [0.36363636363636365, 0.2727272727272727, 0.09090909090909091, 0.09090909090909091, 0.09090909090909091]\n",
      "State: ['ego_2', 'car_2']\tAction: 2\tBelief: [0.4166666666666667, 0.25, 0.08333333333333333, 0.08333333333333333, 0.08333333333333333]\n",
      "State: ['ego_2', 'car_3']\tAction: 2\tBelief: [0.46153846153846156, 0.23076923076923078, 0.07692307692307693, 0.07692307692307693, 0.07692307692307693]\n",
      "State: ['ego_2', 'car_3']\tAction: 2\tBelief: [0.42857142857142855, 0.21428571428571427, 0.07142857142857142, 0.14285714285714285, 0.07142857142857142]\n",
      "State: ['ego_2', 'car_2']\tAction: 2\tBelief: [0.4, 0.2, 0.13333333333333333, 0.13333333333333333, 0.06666666666666667]\n",
      "State: ['ego_2', 'car_3']\tAction: 2\tBelief: [0.375, 0.25, 0.125, 0.125, 0.0625]\n",
      "State: ['ego_2', 'car_2']\tAction: 2\tBelief: [0.4117647058823529, 0.23529411764705882, 0.11764705882352941, 0.11764705882352941, 0.058823529411764705]\n",
      "State: ['ego_2', 'car_3']\tAction: 2\tBelief: [0.3888888888888889, 0.2777777777777778, 0.1111111111111111, 0.1111111111111111, 0.05555555555555555]\n",
      "State: ['ego_2', 'car_3']\tAction: 2\tBelief: [0.42105263157894735, 0.2631578947368421, 0.10526315789473684, 0.10526315789473684, 0.05263157894736842]\n",
      "State: ['ego_2', 'car_3']\tAction: 2\tBelief: [0.4, 0.25, 0.15, 0.1, 0.05]\n",
      "State: ['ego_2', 'car_3']\tAction: 2\tBelief: [0.38095238095238093, 0.23809523809523808, 0.19047619047619047, 0.09523809523809523, 0.047619047619047616]\n",
      "State: ['ego_2', 'car_2']\tAction: 2\tBelief: [0.4090909090909091, 0.22727272727272727, 0.18181818181818182, 0.09090909090909091, 0.045454545454545456]\n",
      "State: ['ego_2', 'car_2']\tAction: 2\tBelief: [0.391304347826087, 0.2608695652173913, 0.17391304347826086, 0.08695652173913043, 0.043478260869565216]\n",
      "State: ['ego_2', 'car_2']\tAction: 2\tBelief: [0.375, 0.2916666666666667, 0.16666666666666666, 0.08333333333333333, 0.041666666666666664]\n",
      "State: ['ego_2', 'car_2']\tAction: 2\tBelief: [0.36, 0.32, 0.16, 0.08, 0.04]\n",
      "State: ['ego_2', 'car_2']\tAction: 2\tBelief: [0.34615384615384615, 0.34615384615384615, 0.15384615384615385, 0.07692307692307693, 0.038461538461538464]\n",
      "State: ['ego_2', 'car_2']\tAction: 2\tBelief: [0.3333333333333333, 0.37037037037037035, 0.14814814814814814, 0.07407407407407407, 0.037037037037037035]\n",
      "State: ['ego_2', 'car_2']\tAction: 2\tBelief: [0.32142857142857145, 0.39285714285714285, 0.14285714285714285, 0.07142857142857142, 0.03571428571428571]\n",
      "State: ['ego_2', 'car_2']\tAction: 2\tBelief: [0.3448275862068966, 0.3793103448275862, 0.13793103448275862, 0.06896551724137931, 0.034482758620689655]\n",
      "State: ['ego_2', 'car_2']\tAction: 2\tBelief: [0.3333333333333333, 0.4, 0.13333333333333333, 0.06666666666666667, 0.03333333333333333]\n",
      "State: ['ego_2', 'car_2']\tAction: 2\tBelief: [0.3225806451612903, 0.41935483870967744, 0.12903225806451613, 0.06451612903225806, 0.03225806451612903]\n",
      "State: ['ego_2', 'car_2']\tAction: 2\tBelief: [0.3125, 0.4375, 0.125, 0.0625, 0.03125]\n",
      "State: ['ego_2', 'car_1']\tAction: 2\tBelief: [0.30303030303030304, 0.45454545454545453, 0.12121212121212122, 0.06060606060606061, 0.030303030303030304]\n",
      "State: ['ego_2', 'car_1']\tAction: 2\tBelief: [0.3235294117647059, 0.4411764705882353, 0.11764705882352941, 0.058823529411764705, 0.029411764705882353]\n",
      "State: ['ego_2', 'car_1']\tAction: 2\tBelief: [0.34285714285714286, 0.42857142857142855, 0.11428571428571428, 0.05714285714285714, 0.02857142857142857]\n",
      "State: ['ego_3', 'car_1']\tAction: 0\tBelief: [0.2, 0.2, 0.2, 0.2, 0.2]\n",
      "State: ['ego_3', 'car_1']\tAction: 2\tBelief: [0.3333333333333333, 0.16666666666666666, 0.16666666666666666, 0.16666666666666666, 0.16666666666666666]\n",
      "State: ['ego_3', 'car_1']\tAction: 2\tBelief: [0.42857142857142855, 0.14285714285714285, 0.14285714285714285, 0.14285714285714285, 0.14285714285714285]\n",
      "State: ['ego_3', 'car_1']\tAction: 2\tBelief: [0.375, 0.25, 0.125, 0.125, 0.125]\n",
      "State: ['ego_3', 'car_1']\tAction: 2\tBelief: [0.4444444444444444, 0.2222222222222222, 0.1111111111111111, 0.1111111111111111, 0.1111111111111111]\n",
      "State: ['ego_3', 'car_1']\tAction: 2\tBelief: [0.5, 0.2, 0.1, 0.1, 0.1]\n",
      "State: ['ego_3', 'car_1']\tAction: 2\tBelief: [0.5454545454545454, 0.18181818181818182, 0.09090909090909091, 0.09090909090909091, 0.09090909090909091]\n",
      "State: ['ego_3', 'car_2']\tAction: 2\tBelief: [0.5833333333333334, 0.16666666666666666, 0.08333333333333333, 0.08333333333333333, 0.08333333333333333]\n",
      "State: ['ego_3', 'car_2']\tAction: 2\tBelief: [0.5384615384615384, 0.23076923076923078, 0.07692307692307693, 0.07692307692307693, 0.07692307692307693]\n",
      "State: ['ego_3', 'car_3']\tAction: 2\tBelief: [0.5, 0.2857142857142857, 0.07142857142857142, 0.07142857142857142, 0.07142857142857142]\n",
      "State: ['ego_3', 'car_3']\tAction: 2\tBelief: [0.4666666666666667, 0.26666666666666666, 0.13333333333333333, 0.06666666666666667, 0.06666666666666667]\n",
      "State: ['ego_3', 'car_3']\tAction: 2\tBelief: [0.4375, 0.25, 0.1875, 0.0625, 0.0625]\n",
      "State: ['ego_3', 'car_3']\tAction: 2\tBelief: [0.4117647058823529, 0.23529411764705882, 0.23529411764705882, 0.058823529411764705, 0.058823529411764705]\n",
      "State: ['ego_3', 'car_3']\tAction: 2\tBelief: [0.3888888888888889, 0.2222222222222222, 0.2777777777777778, 0.05555555555555555, 0.05555555555555555]\n",
      "State: ['ego_3', 'car_3']\tAction: 2\tBelief: [0.3684210526315789, 0.21052631578947367, 0.3157894736842105, 0.05263157894736842, 0.05263157894736842]\n",
      "State: ['ego_3', 'car_3']\tAction: 2\tBelief: [0.35, 0.2, 0.35, 0.05, 0.05]\n",
      "State: ['ego_3', 'car_3']\tAction: 2\tBelief: [0.3333333333333333, 0.19047619047619047, 0.3333333333333333, 0.09523809523809523, 0.047619047619047616]\n",
      "State: ['ego_3', 'car_3']\tAction: 2\tBelief: [0.3181818181818182, 0.18181818181818182, 0.36363636363636365, 0.09090909090909091, 0.045454545454545456]\n",
      "State: ['ego_3', 'car_4']\tAction: 2\tBelief: [0.30434782608695654, 0.17391304347826086, 0.391304347826087, 0.08695652173913043, 0.043478260869565216]\n",
      "State: ['ego_3', 'car_4']\tAction: 2\tBelief: [0.2916666666666667, 0.16666666666666666, 0.375, 0.125, 0.041666666666666664]\n",
      "State: ['ego_3', 'car_4']\tAction: 2\tBelief: [0.28, 0.16, 0.36, 0.16, 0.04]\n",
      "State: ['ego_3', 'car_4']\tAction: 2\tBelief: [0.2692307692307692, 0.15384615384615385, 0.34615384615384615, 0.19230769230769232, 0.038461538461538464]\n",
      "State: ['ego_3', 'car_4']\tAction: 2\tBelief: [0.25925925925925924, 0.14814814814814814, 0.3333333333333333, 0.2222222222222222, 0.037037037037037035]\n",
      "State: ['ego_3', 'car_4']\tAction: 2\tBelief: [0.25, 0.14285714285714285, 0.32142857142857145, 0.21428571428571427, 0.07142857142857142]\n",
      "State: ['ego_3', 'car_4']\tAction: 2\tBelief: [0.2413793103448276, 0.13793103448275862, 0.3103448275862069, 0.2413793103448276, 0.06896551724137931]\n",
      "State: ['ego_3', 'car_4']\tAction: 2\tBelief: [0.23333333333333334, 0.13333333333333333, 0.3, 0.26666666666666666, 0.06666666666666667]\n",
      "State: ['ego_3', 'car_3']\tAction: 2\tBelief: [0.22580645161290322, 0.12903225806451613, 0.2903225806451613, 0.2903225806451613, 0.06451612903225806]\n",
      "State: ['ego_3', 'car_2']\tAction: 2\tBelief: [0.21875, 0.125, 0.3125, 0.28125, 0.0625]\n",
      "State: ['ego_3', 'car_2']\tAction: 2\tBelief: [0.21212121212121213, 0.15151515151515152, 0.30303030303030304, 0.2727272727272727, 0.06060606060606061]\n",
      "State: ['ego_3', 'car_2']\tAction: 2\tBelief: [0.20588235294117646, 0.17647058823529413, 0.29411764705882354, 0.2647058823529412, 0.058823529411764705]\n",
      "State: ['ego_3', 'car_2']\tAction: 2\tBelief: [0.2, 0.17142857142857143, 0.3142857142857143, 0.2571428571428571, 0.05714285714285714]\n",
      "State: ['ego_3', 'car_1']\tAction: 2\tBelief: [0.19444444444444445, 0.19444444444444445, 0.3055555555555556, 0.25, 0.05555555555555555]\n",
      "State: ['ego_3', 'car_1']\tAction: 2\tBelief: [0.1891891891891892, 0.1891891891891892, 0.2972972972972973, 0.24324324324324326, 0.05405405405405406]\n",
      "State: ['ego_3', 'car_1']\tAction: 2\tBelief: [0.21052631578947367, 0.18421052631578946, 0.2894736842105263, 0.23684210526315788, 0.05263157894736842]\n",
      "State: ['ego_3', 'car_1']\tAction: 2\tBelief: [0.23076923076923078, 0.1794871794871795, 0.28205128205128205, 0.23076923076923078, 0.05128205128205128]\n",
      "State: ['ego_3', 'car_1']\tAction: 2\tBelief: [0.25, 0.175, 0.275, 0.225, 0.05]\n",
      "State: ['ego_3', 'car_1']\tAction: 2\tBelief: [0.24390243902439024, 0.1951219512195122, 0.2682926829268293, 0.21951219512195122, 0.04878048780487805]\n",
      "State: ['ego_3', 'car_1']\tAction: 2\tBelief: [0.2619047619047619, 0.19047619047619047, 0.2619047619047619, 0.21428571428571427, 0.047619047619047616]\n",
      "State: ['ego_3', 'car_1']\tAction: 2\tBelief: [0.27906976744186046, 0.18604651162790697, 0.2558139534883721, 0.20930232558139536, 0.046511627906976744]\n",
      "State: ['ego_3', 'car_1']\tAction: 2\tBelief: [0.2727272727272727, 0.18181818181818182, 0.25, 0.20454545454545456, 0.045454545454545456]\n",
      "State: ['ego_3', 'car_1']\tAction: 2\tBelief: [0.28888888888888886, 0.17777777777777778, 0.24444444444444444, 0.2, 0.044444444444444446]\n",
      "State: ['ego_3', 'car_1']\tAction: 2\tBelief: [0.30434782608695654, 0.17391304347826086, 0.2391304347826087, 0.1956521739130435, 0.043478260869565216]\n",
      "State: ['ego_3', 'car_1']\tAction: 2\tBelief: [0.3191489361702128, 0.1702127659574468, 0.23404255319148937, 0.19148936170212766, 0.0425531914893617]\n",
      "State: ['ego_3', 'car_1']\tAction: 2\tBelief: [0.3125, 0.1875, 0.22916666666666666, 0.1875, 0.041666666666666664]\n",
      "State: ['ego_3', 'car_1']\tAction: 2\tBelief: [0.32653061224489793, 0.1836734693877551, 0.22448979591836735, 0.1836734693877551, 0.04081632653061224]\n",
      "State: ['ego_3', 'car_1']\tAction: 2\tBelief: [0.34, 0.18, 0.22, 0.18, 0.04]\n",
      "State: ['ego_3', 'car_1']\tAction: 2\tBelief: [0.35294117647058826, 0.17647058823529413, 0.21568627450980393, 0.17647058823529413, 0.0392156862745098]\n",
      "State: ['ego_3', 'car_1']\tAction: 2\tBelief: [0.36538461538461536, 0.17307692307692307, 0.21153846153846154, 0.17307692307692307, 0.038461538461538464]\n",
      "State: ['ego_3', 'car_1']\tAction: 2\tBelief: [0.37735849056603776, 0.16981132075471697, 0.20754716981132076, 0.16981132075471697, 0.03773584905660377]\n",
      "State: ['ego_3', 'car_1']\tAction: 2\tBelief: [0.3888888888888889, 0.16666666666666666, 0.2037037037037037, 0.16666666666666666, 0.037037037037037035]\n",
      "State: ['ego_3', 'car_1']\tAction: 2\tBelief: [0.4, 0.16363636363636364, 0.2, 0.16363636363636364, 0.03636363636363636]\n",
      "State: ['ego_3', 'car_1']\tAction: 2\tBelief: [0.4107142857142857, 0.16071428571428573, 0.19642857142857142, 0.16071428571428573, 0.03571428571428571]\n",
      "State: ['ego_3', 'car_1']\tAction: 2\tBelief: [0.42105263157894735, 0.15789473684210525, 0.19298245614035087, 0.15789473684210525, 0.03508771929824561]\n",
      "State: ['ego_3', 'car_1']\tAction: 2\tBelief: [0.43103448275862066, 0.15517241379310345, 0.1896551724137931, 0.15517241379310345, 0.034482758620689655]\n",
      "State: ['ego_3', 'car_1']\tAction: 2\tBelief: [0.4406779661016949, 0.15254237288135594, 0.1864406779661017, 0.15254237288135594, 0.03389830508474576]\n",
      "State: ['ego_3', 'car_1']\tAction: 2\tBelief: [0.45, 0.15, 0.18333333333333332, 0.15, 0.03333333333333333]\n",
      "State: ['ego_3', 'car_1']\tAction: 2\tBelief: [0.45901639344262296, 0.14754098360655737, 0.18032786885245902, 0.14754098360655737, 0.03278688524590164]\n",
      "State: ['ego_3', 'car_1']\tAction: 2\tBelief: [0.46774193548387094, 0.14516129032258066, 0.1774193548387097, 0.14516129032258066, 0.03225806451612903]\n",
      "State: ['ego_3', 'car_1']\tAction: 2\tBelief: [0.47619047619047616, 0.14285714285714285, 0.1746031746031746, 0.14285714285714285, 0.031746031746031744]\n",
      "State: ['ego_3', 'car_1']\tAction: 2\tBelief: [0.484375, 0.140625, 0.171875, 0.140625, 0.03125]\n",
      "State: ['ego_3', 'car_1']\tAction: 2\tBelief: [0.49230769230769234, 0.13846153846153847, 0.16923076923076924, 0.13846153846153847, 0.03076923076923077]\n",
      "State: ['ego_3', 'car_1']\tAction: 2\tBelief: [0.5, 0.13636363636363635, 0.16666666666666666, 0.13636363636363635, 0.030303030303030304]\n",
      "State: ['ego_3', 'car_1']\tAction: 2\tBelief: [0.5074626865671642, 0.13432835820895522, 0.16417910447761194, 0.13432835820895522, 0.029850746268656716]\n",
      "State: ['ego_3', 'car_2']\tAction: 2\tBelief: [0.5147058823529411, 0.1323529411764706, 0.16176470588235295, 0.1323529411764706, 0.029411764705882353]\n",
      "State: ['ego_3', 'car_2']\tAction: 2\tBelief: [0.5072463768115942, 0.14492753623188406, 0.15942028985507245, 0.13043478260869565, 0.028985507246376812]\n",
      "State: ['ego_3', 'car_2']\tAction: 2\tBelief: [0.5, 0.15714285714285714, 0.15714285714285714, 0.12857142857142856, 0.02857142857142857]\n",
      "State: ['ego_3', 'car_2']\tAction: 2\tBelief: [0.49295774647887325, 0.16901408450704225, 0.15492957746478872, 0.1267605633802817, 0.028169014084507043]\n",
      "State: ['ego_3', 'car_2']\tAction: 2\tBelief: [0.4861111111111111, 0.18055555555555555, 0.1527777777777778, 0.125, 0.027777777777777776]\n",
      "State: ['ego_3', 'car_2']\tAction: 2\tBelief: [0.4794520547945205, 0.1917808219178082, 0.1506849315068493, 0.1232876712328767, 0.0273972602739726]\n",
      "State: ['ego_3', 'car_2']\tAction: 2\tBelief: [0.47297297297297297, 0.20270270270270271, 0.14864864864864866, 0.12162162162162163, 0.02702702702702703]\n",
      "State: ['ego_3', 'car_2']\tAction: 2\tBelief: [0.4666666666666667, 0.21333333333333335, 0.14666666666666667, 0.12, 0.02666666666666667]\n",
      "State: ['ego_3', 'car_1']\tAction: 2\tBelief: [0.4605263157894737, 0.2236842105263158, 0.14473684210526316, 0.11842105263157894, 0.02631578947368421]\n",
      "State: ['ego_3', 'car_1']\tAction: 2\tBelief: [0.45454545454545453, 0.23376623376623376, 0.14285714285714285, 0.11688311688311688, 0.025974025974025976]\n",
      "State: ['ego_3', 'car_1']\tAction: 2\tBelief: [0.46153846153846156, 0.23076923076923078, 0.14102564102564102, 0.11538461538461539, 0.02564102564102564]\n",
      "State: ['ego_3', 'car_1']\tAction: 2\tBelief: [0.45569620253164556, 0.22784810126582278, 0.13924050632911392, 0.11392405063291139, 0.02531645569620253]\n",
      "State: ['ego_3', 'car_1']\tAction: 2\tBelief: [0.4625, 0.225, 0.1375, 0.1125, 0.025]\n",
      "State: ['ego_3', 'car_1']\tAction: 2\tBelief: [0.4691358024691358, 0.2222222222222222, 0.13580246913580246, 0.1111111111111111, 0.024691358024691357]\n",
      "State: ['ego_3', 'car_1']\tAction: 2\tBelief: [0.47560975609756095, 0.21951219512195122, 0.13414634146341464, 0.10975609756097561, 0.024390243902439025]\n",
      "State: ['ego_3', 'car_1']\tAction: 2\tBelief: [0.4819277108433735, 0.21686746987951808, 0.13253012048192772, 0.10843373493975904, 0.024096385542168676]\n",
      "State: ['ego_3', 'car_1']\tAction: 2\tBelief: [0.4880952380952381, 0.21428571428571427, 0.13095238095238096, 0.10714285714285714, 0.023809523809523808]\n",
      "State: ['ego_3', 'car_1']\tAction: 2\tBelief: [0.49411764705882355, 0.21176470588235294, 0.12941176470588237, 0.10588235294117647, 0.023529411764705882]\n",
      "State: ['ego_3', 'car_1']\tAction: 2\tBelief: [0.5, 0.20930232558139536, 0.12790697674418605, 0.10465116279069768, 0.023255813953488372]\n",
      "State: ['ego_3', 'car_1']\tAction: 2\tBelief: [0.5057471264367817, 0.20689655172413793, 0.12643678160919541, 0.10344827586206896, 0.022988505747126436]\n",
      "State: ['ego_3', 'car_2']\tAction: 2\tBelief: [0.5, 0.20454545454545456, 0.125, 0.10227272727272728, 0.022727272727272728]\n",
      "State: ['ego_3', 'car_2']\tAction: 2\tBelief: [0.4943820224719101, 0.21348314606741572, 0.12359550561797752, 0.10112359550561797, 0.02247191011235955]\n",
      "State: ['ego_3', 'car_3']\tAction: 2\tBelief: [0.4888888888888889, 0.2222222222222222, 0.12222222222222222, 0.1, 0.022222222222222223]\n",
      "State: ['ego_3', 'car_3']\tAction: 2\tBelief: [0.4835164835164835, 0.21978021978021978, 0.13186813186813187, 0.0989010989010989, 0.02197802197802198]\n",
      "State: ['ego_3', 'car_3']\tAction: 2\tBelief: [0.4782608695652174, 0.21739130434782608, 0.14130434782608695, 0.09782608695652174, 0.021739130434782608]\n",
      "State: ['ego_3', 'car_3']\tAction: 2\tBelief: [0.4731182795698925, 0.21505376344086022, 0.15053763440860216, 0.0967741935483871, 0.021505376344086023]\n",
      "State: ['ego_3', 'car_3']\tAction: 2\tBelief: [0.46808510638297873, 0.2127659574468085, 0.1595744680851064, 0.09574468085106383, 0.02127659574468085]\n",
      "State: ['ego_3', 'car_2']\tAction: 2\tBelief: [0.4631578947368421, 0.21052631578947367, 0.16842105263157894, 0.09473684210526316, 0.021052631578947368]\n",
      "State: ['ego_3', 'car_1']\tAction: 2\tBelief: [0.46875, 0.20833333333333334, 0.16666666666666666, 0.09375, 0.020833333333333332]\n",
      "State: ['ego_3', 'car_1']\tAction: 2\tBelief: [0.4742268041237113, 0.20618556701030927, 0.16494845360824742, 0.09278350515463918, 0.020618556701030927]\n",
      "State: ['ego_3', 'car_1']\tAction: 2\tBelief: [0.47959183673469385, 0.20408163265306123, 0.16326530612244897, 0.09183673469387756, 0.02040816326530612]\n",
      "State: ['ego_3', 'car_1']\tAction: 2\tBelief: [0.48484848484848486, 0.20202020202020202, 0.16161616161616163, 0.09090909090909091, 0.020202020202020204]\n",
      "State: ['ego_3', 'car_1']\tAction: 2\tBelief: [0.49, 0.2, 0.16, 0.09, 0.02]\n",
      "State: ['ego_3', 'car_2']\tAction: 2\tBelief: [0.49504950495049505, 0.19801980198019803, 0.15841584158415842, 0.0891089108910891, 0.019801980198019802]\n",
      "State: ['ego_3', 'car_2']\tAction: 2\tBelief: [0.49019607843137253, 0.20588235294117646, 0.1568627450980392, 0.08823529411764706, 0.0196078431372549]\n",
      "State: ['ego_3', 'car_2']\tAction: 2\tBelief: [0.4854368932038835, 0.21359223300970873, 0.1553398058252427, 0.08737864077669903, 0.019417475728155338]\n",
      "State: ['ego_3', 'car_2']\tAction: 2\tBelief: [0.4807692307692308, 0.21153846153846154, 0.16346153846153846, 0.08653846153846154, 0.019230769230769232]\n",
      "State: ['ego_3', 'car_2']\tAction: 2\tBelief: [0.47619047619047616, 0.20952380952380953, 0.17142857142857143, 0.08571428571428572, 0.01904761904761905]\n",
      "State: ['ego_3', 'car_1']\tAction: 2\tBelief: [0.4716981132075472, 0.2169811320754717, 0.16981132075471697, 0.08490566037735849, 0.018867924528301886]\n",
      "State: ['ego_3', 'car_2']\tAction: 2\tBelief: [0.4766355140186916, 0.21495327102803738, 0.16822429906542055, 0.08411214953271028, 0.018691588785046728]\n",
      "State: ['ego_3', 'car_1']\tAction: 2\tBelief: [0.4722222222222222, 0.2222222222222222, 0.16666666666666666, 0.08333333333333333, 0.018518518518518517]\n",
      "State: ['ego_3', 'car_1']\tAction: 2\tBelief: [0.47706422018348627, 0.22018348623853212, 0.1651376146788991, 0.08256880733944955, 0.01834862385321101]\n",
      "State: ['ego_3', 'car_1']\tAction: 2\tBelief: [0.4818181818181818, 0.21818181818181817, 0.16363636363636364, 0.08181818181818182, 0.01818181818181818]\n",
      "State: ['ego_3', 'car_1']\tAction: 2\tBelief: [0.4864864864864865, 0.21621621621621623, 0.16216216216216217, 0.08108108108108109, 0.018018018018018018]\n",
      "State: ['ego_3', 'car_1']\tAction: 2\tBelief: [0.49107142857142855, 0.21428571428571427, 0.16071428571428573, 0.08035714285714286, 0.017857142857142856]\n",
      "State: ['ego_3', 'car_1']\tAction: 2\tBelief: [0.49557522123893805, 0.21238938053097345, 0.1592920353982301, 0.07964601769911504, 0.017699115044247787]\n",
      "State: ['ego_3', 'car_2']\tAction: 2\tBelief: [0.49122807017543857, 0.21929824561403508, 0.15789473684210525, 0.07894736842105263, 0.017543859649122806]\n",
      "State: ['ego_3', 'car_2']\tAction: 2\tBelief: [0.48695652173913045, 0.22608695652173913, 0.1565217391304348, 0.0782608695652174, 0.017391304347826087]\n",
      "State: ['ego_3', 'car_2']\tAction: 2\tBelief: [0.4827586206896552, 0.22413793103448276, 0.16379310344827586, 0.07758620689655173, 0.017241379310344827]\n",
      "State: ['ego_3', 'car_3']\tAction: 2\tBelief: [0.47863247863247865, 0.23076923076923078, 0.1623931623931624, 0.07692307692307693, 0.017094017094017096]\n",
      "State: ['ego_3', 'car_3']\tAction: 2\tBelief: [0.4830508474576271, 0.2288135593220339, 0.16101694915254236, 0.07627118644067797, 0.01694915254237288]\n",
      "State: ['ego_3', 'car_3']\tAction: 2\tBelief: [0.4789915966386555, 0.226890756302521, 0.16806722689075632, 0.07563025210084033, 0.01680672268907563]\n",
      "State: ['ego_3', 'car_3']\tAction: 2\tBelief: [0.475, 0.225, 0.175, 0.075, 0.016666666666666666]\n",
      "State: ['ego_3', 'car_3']\tAction: 2\tBelief: [0.47107438016528924, 0.2231404958677686, 0.18181818181818182, 0.0743801652892562, 0.01652892561983471]\n",
      "State: ['ego_3', 'car_3']\tAction: 2\tBelief: [0.4672131147540984, 0.22131147540983606, 0.1885245901639344, 0.07377049180327869, 0.01639344262295082]\n",
      "State: ['ego_3', 'car_3']\tAction: 2\tBelief: [0.4715447154471545, 0.21951219512195122, 0.18699186991869918, 0.07317073170731707, 0.016260162601626018]\n",
      "State: ['ego_3', 'car_3']\tAction: 2\tBelief: [0.46774193548387094, 0.21774193548387097, 0.1935483870967742, 0.07258064516129033, 0.016129032258064516]\n",
      "State: ['ego_3', 'car_3']\tAction: 2\tBelief: [0.464, 0.216, 0.192, 0.08, 0.016]\n",
      "State: ['ego_3', 'car_3']\tAction: 2\tBelief: [0.4603174603174603, 0.21428571428571427, 0.1984126984126984, 0.07936507936507936, 0.015873015873015872]\n",
      "State: ['ego_3', 'car_3']\tAction: 2\tBelief: [0.4566929133858268, 0.2125984251968504, 0.2047244094488189, 0.07874015748031496, 0.015748031496062992]\n",
      "State: ['ego_3', 'car_3']\tAction: 2\tBelief: [0.453125, 0.2109375, 0.2109375, 0.078125, 0.015625]\n",
      "State: ['ego_3', 'car_4']\tAction: 2\tBelief: [0.4496124031007752, 0.20930232558139536, 0.21705426356589147, 0.07751937984496124, 0.015503875968992248]\n",
      "State: ['ego_3', 'car_4']\tAction: 2\tBelief: [0.4461538461538462, 0.2076923076923077, 0.2153846153846154, 0.08461538461538462, 0.015384615384615385]\n",
      "State: ['ego_3', 'car_4']\tAction: 2\tBelief: [0.44274809160305345, 0.20610687022900764, 0.21374045801526717, 0.0916030534351145, 0.015267175572519083]\n",
      "State: ['ego_3', 'car_4']\tAction: 2\tBelief: [0.44696969696969696, 0.20454545454545456, 0.21212121212121213, 0.09090909090909091, 0.015151515151515152]\n",
      "State: ['ego_3', 'car_4']\tAction: 2\tBelief: [0.44360902255639095, 0.20300751879699247, 0.21052631578947367, 0.09774436090225563, 0.015037593984962405]\n",
      "State: ['ego_3', 'car_4']\tAction: 2\tBelief: [0.44029850746268656, 0.20149253731343283, 0.208955223880597, 0.09701492537313433, 0.022388059701492536]\n",
      "State: ['ego_3', 'car_4']\tAction: 2\tBelief: [0.43703703703703706, 0.2, 0.2074074074074074, 0.1037037037037037, 0.022222222222222223]\n",
      "State: ['ego_3', 'car_4']\tAction: 2\tBelief: [0.4338235294117647, 0.19852941176470587, 0.20588235294117646, 0.10294117647058823, 0.029411764705882353]\n",
      "State: ['ego_3', 'car_4']\tAction: 2\tBelief: [0.43795620437956206, 0.19708029197080293, 0.20437956204379562, 0.10218978102189781, 0.029197080291970802]\n",
      "State: ['ego_3', 'car_5']\tAction: 2\tBelief: [0.4420289855072464, 0.1956521739130435, 0.2028985507246377, 0.10144927536231885, 0.028985507246376812]\n"
     ]
    }
   ],
   "source": [
    "done = False\n",
    "state = [\"ego_1\", \"car_1\"]\n",
    "state_list = [state]\n",
    "b = dist.get_posterior_predictive()\n",
    "print(\"State: {}\\tAction: {}\\tBelief: {}\".format(state, None, b))\n",
    "\n",
    "while not done:\n",
    "    belief = propagate_belief(b, state[0])\n",
    "    next_action = QMDP(V_star=V_star, belief=belief, mdp=tinter_qmdp)\n",
    "    \n",
    "    if int(next_action) == 2:\n",
    "        true_state_idx = int(state[1].replace(\"car_\", \"\")) - 1\n",
    "        obs = np.random.choice([min(true_state_idx-1, 0), true_state_idx, min(true_state_idx+1, 4)], p=[0.1, 0.8, 0.1])\n",
    "        b = dist.get_posterior_predictive([obs])\n",
    "    elif int(next_action) == 0:\n",
    "        dist.reset()\n",
    "        b = dist.get_posterior_predictive()\n",
    "\n",
    "    state_index = tinter_qmdp.get_index(state)\n",
    "\n",
    "    next_state_indices = np.where(tinter_qmdp.P[:, state_index, int(next_action)] > 0.0)[0]\n",
    "    next_state_p = tinter_qmdp.P[:, state_index, int(next_action)][next_state_indices]\n",
    "    next_state_index = np.random.choice(next_state_indices, p=next_state_p)\n",
    "    \n",
    "    state = tinter_qmdp.get_real_state_value(next_state_index)\n",
    "    state_list.append(state)\n",
    "\n",
    "    if state[0] == \"ego_5\" or state[1] == \"car_5\":\n",
    "        done = True\n",
    "    \n",
    "    print(\"State: {}\\tAction: {}\\tBelief: {}\".format(state, next_action, b))"
   ]
  },
  {
   "cell_type": "code",
   "execution_count": null,
   "id": "ad88f748-139b-4abb-8003-ad002c84f53e",
   "metadata": {},
   "outputs": [],
   "source": []
  }
 ],
 "metadata": {
  "kernelspec": {
   "display_name": "Python 3.9.18",
   "language": "python",
   "name": "python3"
  },
  "language_info": {
   "codemirror_mode": {
    "name": "ipython",
    "version": 3
   },
   "file_extension": ".py",
   "mimetype": "text/x-python",
   "name": "python",
   "nbconvert_exporter": "python",
   "pygments_lexer": "ipython3",
   "version": "3.10.11"
  },
  "vscode": {
   "interpreter": {
    "hash": "f2f72f19e7e236c1a4ebd275b8d5221c50254ed6eb7c55c872edfe3de765d7fc"
   }
  }
 },
 "nbformat": 4,
 "nbformat_minor": 5
}
